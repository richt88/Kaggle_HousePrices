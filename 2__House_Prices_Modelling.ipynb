{
 "cells": [
  {
   "cell_type": "markdown",
   "metadata": {},
   "source": [
    "# Predictive Modelling for House Prices Dataset\n",
    "This notebook contains the model development for the kaggle competition - [House Prices: Advanced Regression Techniques](https://www.kaggle.com/c/house-prices-advanced-regression-techniques).   \n",
    "The data exploration for this analysis is completed in *[a separate notebook](.\\1__House_Prices_EDA.ipynb)*.  \n",
    "Contents\n",
    "1. Preprocessing   \n",
    "       1a. The EDA findings are used to inform the preprocessing steps followed.   \n",
    "           All preprocessing steps utlise the sklearn pipeline format. This allows for quick manipulation   \n",
    "           and testing of the whole preprocessing stage. \n",
    "       1b. Preprocessing refinement - Each step is assessed to ensure it provides a positive impact on predicitve\n",
    "           perrformance.\n",
    "       1c. The final preprocessing pipe created.\n",
    "2. Model Selection \n",
    "        2a. Algorithm tests - Asses performance of different model types.\n",
    "            Gridsearch used to tune hyperparameters.\n",
    "        2b. Ensemble methods - Check performance of combining different models.\n",
    "3. Competition Submission"
   ]
  },
  {
   "cell_type": "markdown",
   "metadata": {},
   "source": [
    "## Imports"
   ]
  },
  {
   "cell_type": "code",
   "execution_count": 1,
   "metadata": {},
   "outputs": [],
   "source": [
    "# Import Packages\n",
    "## General\n",
    "from IPython.display import display\n",
    "import pandas as pd\n",
    "pd.options.display.max_columns = 200\n",
    "pd.options.display.max_rows = 200\n",
    "import numpy as np\n",
    "import itertools\n",
    "from tqdm import tqdm\n",
    "\n",
    "# Visualisation\n",
    "import matplotlib.pyplot as plt\n",
    "plt.style.use('ggplot')\n",
    "import seaborn as sns\n",
    "\n",
    "## Sklean\n",
    "from sklearn.base import TransformerMixin, BaseEstimator, clone\n",
    "from sklearn.pipeline import Pipeline\n",
    "from sklearn.linear_model import ElasticNet, Ridge\n",
    "from sklearn.ensemble import RandomForestRegressor, GradientBoostingRegressor, AdaBoostRegressor\n",
    "from sklearn.model_selection import cross_val_score, KFold, GridSearchCV, train_test_split\n",
    "from sklearn.preprocessing import StandardScaler, OneHotEncoder\n",
    "from sklearn.metrics import mean_squared_error\n",
    "\n",
    "# Random Seed for reproducibilty\n",
    "seed = 42\n",
    "np.random.seed = seed"
   ]
  },
  {
   "cell_type": "code",
   "execution_count": 2,
   "metadata": {},
   "outputs": [],
   "source": [
    "# Import Data\n",
    "train = pd.read_csv('datasets/train.csv')\n",
    "y = np.log1p(train.SalePrice) #EDA Finding 1\n",
    "X = train.drop(['SalePrice', 'Id'], axis=1)"
   ]
  },
  {
   "cell_type": "markdown",
   "metadata": {},
   "source": [
    "## 1. Preprocessing"
   ]
  },
  {
   "cell_type": "markdown",
   "metadata": {},
   "source": [
    "### 1a. EDA Findings\n",
    "Findings taken from *[1__House_Prices_EDA](.\\1__House_Prices_EDA.ipynb)*.  to be considered in the predictive modelling.\n",
    "\n",
    "   1. Log transform SalePrice target variable\n",
    "   2. Remove features with no correlation with target (no_correlation)\n",
    "   3. Convert several numeric features to categorical (convert_to_cat)\n",
    "   4. Convert 'OverallCond' to a categorical feature and remove values '5' and '6'.\n",
    "   5. Several features benefit from a log transform (log_feats)\n",
    "   6. Several features have many zero values and would be more useful as a\n",
    "      zero/non-zero indicator column. (convert_to_bin_cat)\n",
    "   7. '2ndFlrSF' has an issue in that most values are zero, but those that are not have\n",
    "     a good correlation with the target value.\n",
    "   8. Some categorical features show no predicitve value. (remove_cat)\n",
    "   9. Some sub-categories show no predictive value (remove_subcats)\n",
    "   10. Due to the large number of sub category indicatory features that will be created during one-hot encoding, feature importance an removal step should be included in the pre-processing."
   ]
  },
  {
   "cell_type": "code",
   "execution_count": 3,
   "metadata": {},
   "outputs": [],
   "source": [
    "# EDA lists\n",
    "no_correlation =  ['BsmtHalfBath', 'LowQualFinSF', 'MiscVal'] #2\n",
    "convert_to_cat =  ['MSSubClass', 'KitchenAbvGr', 'Fireplaces', 'GarageCars'] #3\n",
    "log_feats =  ['LotFrontage', 'LotArea', '1stFlrSF', 'GrLivArea'] #5\n",
    "convert_to_bin_cat =  ['WoodDeckSF', 'OpenPorchSF', 'BsmtUnfSF', 'EnclosedPorch', '3SsnPorch', 'ScreenPorch', 'PoolArea'] #6\n",
    "remove_cat =  ['PoolQC', 'MiscFeature', 'Street', 'Utilities', 'LandSlope', 'BsmtFinType2', 'Street', \n",
    "               'Utilities', 'LandSlope', 'BsmtFinType2'] #8\n",
    "remove_subcats =  ['LotConfig_Inside', 'LotConfig_FR2', 'LotConfig_Corner'] #9"
   ]
  },
  {
   "cell_type": "markdown",
   "metadata": {},
   "source": [
    "## Custom Transformation Features\n",
    "For use in preprocessing pipeline, all classes created take and return a pandas dataframe."
   ]
  },
  {
   "cell_type": "code",
   "execution_count": 4,
   "metadata": {},
   "outputs": [],
   "source": [
    "#------------------------Replace NaNs------------------------------------------------# \n",
    "# Replacement of missing values in dataset\n",
    "class Replace_NaNs(TransformerMixin):\n",
    "    \"\"\"Basic removal of invalid values\n",
    "    \n",
    "    Numeric - Replaced with median/mean value.\n",
    "    Catergoric - Replaced with string 'Missing' \"\"\" \n",
    "    \n",
    "    def __init__(self, numeric_method = 'median', **params):\n",
    "        self.numeric_method = numeric_method\n",
    "\n",
    "    def fit(self, X, y=None, **fit_params):\n",
    "        return self\n",
    "    \n",
    "    def transform(self, X, **trans_params):\n",
    "        X_out = X.copy()\n",
    "        #numeric\n",
    "        numeric_list = list(X.select_dtypes(include='number').columns)\n",
    "        if self.numeric_method == 'median':\n",
    "            X_out[numeric_list] = X[numeric_list].apply(lambda x: x.fillna(x.median()), axis=0)\n",
    "        elif self.numeric_method == 'mean':\n",
    "            X_out[numeric_list] = X[numeric_list].apply(lambda x: x.fillna(x.mean()), axis=0)\n",
    "        else:\n",
    "            print('numeric method not valid, no transformation applied to numeric values.')\n",
    "        #Categorical \n",
    "        cat_list = list(X.select_dtypes(include=['object', 'category']).columns)\n",
    "        X_out[cat_list] = X[cat_list].apply(lambda x: x.fillna('Missing'), axis=0)\n",
    "        \n",
    "        return X_out\n",
    "    \n",
    "#------------------------Remove_No_Correlation------------------------------------------------# \n",
    "# Removal of features found to have no correlation with target during EDA\n",
    "class Remove_No_Correlation(TransformerMixin):\n",
    "    \"\"\"Removes the several features found to have no predictive power.\"\"\"\n",
    "    \n",
    "    def __init__(self, remove_list, **params):\n",
    "        self.remove_list = remove_list\n",
    "\n",
    "    def fit(self, X, y=None, **fit_params):\n",
    "        return self\n",
    "    \n",
    "    def transform(self, X, **trans_params):\n",
    "        X_out = X.drop(self.remove_list, axis=1 )\n",
    "        return X_out \n",
    "\n",
    "#------------------------Convert_Numeric_to_Categorical------------------------------------------------# \n",
    "# Conversion of Numeric columns to categoric (object) type.\n",
    "class Convert_to_Cat(TransformerMixin):\n",
    "    \"\"\"Convert several numeric variables to categorical.\"\"\"\n",
    "    \n",
    "    def __init__(self, feature_list,  **params):\n",
    "        self.feature_list = feature_list\n",
    "\n",
    "    def fit(self, X, y=None, **fit_params):\n",
    "        return self\n",
    "    \n",
    "    def transform(self, X, **trans_params):\n",
    "        X_out = X.copy()\n",
    "        X_out[self.feature_list] = X[self.feature_list].apply(lambda x : x.astype('category'), axis=0)\n",
    "        return X_out\n",
    "    \n",
    "#------------------------Log Features------------------------------------------------# \n",
    "# Apply np.log1p to several numeric features\n",
    "class Log_Feats(TransformerMixin):\n",
    "    \"\"\"Apply the log1p transform to features.\"\"\"\n",
    "    \n",
    "    def __init__(self, feature_list,  **params):\n",
    "        self.feature_list = feature_list\n",
    "\n",
    "    def fit(self, X, y=None, **fit_params):\n",
    "        return self\n",
    "    \n",
    "    def transform(self, X, **trans_params):\n",
    "        X_out = X.copy()\n",
    "        X_out[self.feature_list] = X_out[self.feature_list].apply(lambda x : np.log1p(x), axis=0)\n",
    "        return X_out    \n",
    "    \n",
    "#------------------------OverallCond to Cat------------------------------------------------# \n",
    "# \n",
    "class OverallCond_to_Cat(TransformerMixin):\n",
    "    \"\"\"Converts 'OverallCond' feature to indicator columns, then drops '5' and '6'\n",
    "    \n",
    "    EDA found that the values of '5' and '6' in the OverallCond feature had little to no\n",
    "    predictive power. However, all other values (1-4, 7-9) did.\"\"\"\n",
    "    \n",
    "    def __init__(self, **params):\n",
    "        pass\n",
    "\n",
    "    def fit(self, X, y=None, **fit_params):\n",
    "        return self\n",
    "    \n",
    "    def transform(self, X, **trans_params):\n",
    "        X_out = X.copy()\n",
    "        dummies = pd.get_dummies(X_out['OverallCond'], prefix='OverallCond')\n",
    "        dummies.drop(['OverallCond_5', 'OverallCond_6'], axis=1, inplace=True)\n",
    "        X_out.drop(['OverallCond'], axis=1)\n",
    "        X_out = pd.concat([X_out, dummies], axis=1)\n",
    "        return X_out\n",
    "    \n",
    "#------------------------Convert to binary------------------------------------------------# \n",
    "# Converts numeric features to a 0 or >0 indicator.\n",
    "class Convert_to_Binary(TransformerMixin):\n",
    "    \"\"\"Converts several numeric columns to binary indicators based on >0 or =0.\"\"\"\n",
    "    \n",
    "    def __init__(self, bin_list, **params):\n",
    "            self.bin_list = bin_list\n",
    "\n",
    "    def fit(self, X, y=None, **fit_params):\n",
    "        return self\n",
    "    \n",
    "    def transform(self, X, **trans_params):\n",
    "        X_out = X.copy()\n",
    "        for col in self.bin_list:\n",
    "            X_out[col] = X_out[col].apply(lambda x: int(x!=0))\n",
    "        return X_out\n",
    "    \n",
    "#------------------------Remove_Cat------------------------------------------------# \n",
    "# Remove categorical features that show no predictive power.\n",
    "class Remove_Cat(TransformerMixin):\n",
    "    \"\"\"Removes several categorical fetures found to have little to no predictive power.\"\"\"\n",
    "    \n",
    "    def __init__(self, feature_list, **params):\n",
    "        self.feature_list = feature_list\n",
    "\n",
    "    def fit(self, X, y=None, **fit_params):\n",
    "        return self\n",
    "    \n",
    "    def transform(self, X, **trans_params):\n",
    "        X_out = X.drop(self.feature_list, axis=1)\n",
    "        return X_out\n",
    "    \n",
    "#------------------------Convert to Indicator------------------------------------------------# \n",
    "# Convert all categorical features to indicator values\n",
    "\n",
    "class Convert_to_Ind(TransformerMixin):\n",
    "    \"\"\"Converts all categorical features to value indicators, then removes those in the drop list.\"\"\"\n",
    "    \n",
    "    def __init__(self, drop_list,  **params):\n",
    "        self.convert_list = []\n",
    "        self.ind_col_list = []\n",
    "        self.drop_list = drop_list\n",
    "        self.col_order = []\n",
    "        pass\n",
    "\n",
    "    def fit(self, X, y=None, **fit_params):\n",
    "        # Create list of columns that require converting\n",
    "        self.convert_list = list(X.select_dtypes(include=['object', 'category']).columns)\n",
    "        # Create a list of all indicator columns that will be created by the training set.\n",
    "        for col in self.convert_list:\n",
    "            self.ind_col_list += list(pd.get_dummies(X[col], prefix=col).columns)\n",
    "        self.ind_col_list = [col for col in self.ind_col_list if col not in self.drop_list] #Remove indicators known to be poor    \n",
    "        self.col_order = list(X.drop(self.convert_list, axis=1).columns) + self.ind_col_list\n",
    "        return self\n",
    "    \n",
    "    def transform(self, X, **trans_params):\n",
    "        X_out = X.copy()\n",
    "        X_dummies = pd.DataFrame(index=X.index)\n",
    "        # Create a dataframe of all new dummy columns\n",
    "        for col in self.convert_list:\n",
    "            dummy_cols = pd.get_dummies(X_out[col], prefix=col)\n",
    "            #Check to ensure no indicator columns have been created that are not present\n",
    "            #in the training data and hence the predictive model.\n",
    "            for dum in list(dummy_cols.columns):\n",
    "                if dum not in self.ind_col_list:\n",
    "                    dummy_cols.drop([dum], axis=1,inplace=True)\n",
    "            X_dummies = pd.concat([X_dummies, dummy_cols], axis=1)\n",
    "        # Drop all columns now turned into dummy columns\n",
    "        X_out.drop(self.convert_list, axis=1, inplace=True)\n",
    "        # Make sure transformed data set has all the columns created by the training set\n",
    "        missing_cols = list(set(self.ind_col_list).difference(set(list(X_dummies.columns))))\n",
    "        for col in missing_cols:\n",
    "            X_dummies[col] = 0\n",
    "        X_out = pd.concat([X_out, X_dummies], axis=1)\n",
    "\n",
    "        # Sort all columns to match training dataset order\n",
    "        X_out = X_out[self.col_order]\n",
    "        return X_out\n",
    "    \n",
    "   \n",
    "#----------------------------Remove_Least_Important--------------------------------------------# \n",
    "# Remove features with an importance rating less than the threshold passed.\n",
    "# Based on a random forest regressor.\n",
    "# Threshold set relativly low (10^-5) to ensure minimal loss of useful information.\n",
    "class Remove_Least_Important(TransformerMixin):\n",
    "    \"\"\"Finds and removes least important features.\n",
    "    \n",
    "    Based on a Random Forest Regressor.\n",
    "    threshold: features with an importance rating below this are removed.\"\"\"\n",
    "    \n",
    "    def __init__(self, threshold=10**-5, random_seed=42, **params):\n",
    "        self.threshold=threshold\n",
    "        self.unimportant_cols = []\n",
    "        self.importance = pd.DataFrame()\n",
    "        self.random_seed = random_seed\n",
    "\n",
    "            \n",
    "    def fit(self, X, y, **fit_params):\n",
    "        model = RandomForestRegressor(random_state=self.random_seed)\n",
    "        model.fit(X, y)\n",
    "        \n",
    "        self.importance = pd.DataFrame({'col':X.columns,\n",
    "                                   'importance':model.feature_importances_})\\\n",
    "                                    .sort_values(by='importance', ascending=False)\n",
    "\n",
    "        self.unimportant_cols = self.importance.loc[self.importance['importance'] < self.threshold, 'col'].values\n",
    "        return self\n",
    "    \n",
    "    \n",
    "    def transform(self, X, **trans_params):\n",
    "            drops = [x for x in self.unimportant_cols if x in X.columns]\n",
    "            X_out = X.drop(drops, axis=1)           \n",
    "            return X_out\n",
    "        \n",
    "#---------------------StandardScaler_Df---------------------------------------------------#\n",
    "# Custom transform to output a pandas dataframe rather than a numpy array.\n",
    "class StandardScale_Df(TransformerMixin):\n",
    "    \"\"\"Custom transformer to apply StandardScaler scaling and return a dataframe.\"\"\"\n",
    "    \n",
    "    def __init__(self, **params):\n",
    "        from sklearn.preprocessing import StandardScaler\n",
    "        self.scaler = StandardScaler()\n",
    "        self.scale_list = []\n",
    "            \n",
    "    def fit(self, X, y, **fit_params):\n",
    "        self.scale_list = list(X.select_dtypes(include=['number']).columns)\n",
    "        self.scaler.fit(X[self.scale_list], y)\n",
    "        return self\n",
    "    \n",
    "    def transform(self, X, **trans_params):\n",
    "        X_out = X.copy()\n",
    "        X_out[self.scale_list] = self.scaler.transform(X[self.scale_list])\n",
    "#         X_out = pd.DataFrame(index = X.index,\n",
    "#                             columns = X.columns,\n",
    "#                             data = data)\n",
    "        return X_out\n",
    "#------------------------Match Data types------------------------------------------------# \n",
    "# Ensure data types match bewteen training data and transformed test data\n",
    "class Match_Data_Types(TransformerMixin):\n",
    "    \"\"\"Ensure data types match that of the data used to train models\"\"\"\n",
    "    \n",
    "    def __init__(self, **params):\n",
    "        self.col_names = []\n",
    "        self.datatypes = []\n",
    "\n",
    "    def fit(self, X, y=None, **fit_params):\n",
    "        self.col_names = list(X.columns)\n",
    "        self.datatypes = list(X.dtypes)\n",
    "        return self\n",
    "    \n",
    "    def transform(self, X, **trans_params):\n",
    "        X_out = X.copy()\n",
    "        for i, col_name in enumerate(self.col_names):\n",
    "            X_out[col_name] = X_out[col_name].astype(self.datatypes[i], errors='raise')\n",
    "        return X_out\n",
    "    "
   ]
  },
  {
   "cell_type": "markdown",
   "metadata": {},
   "source": [
    "### Initial Preprocessing Pipeline"
   ]
  },
  {
   "cell_type": "code",
   "execution_count": 5,
   "metadata": {},
   "outputs": [],
   "source": [
    "preprocess_pipe = Pipeline([\n",
    "    ('Replace_NaNs', Replace_NaNs()), \n",
    "    ('Match_Data_Types', Match_Data_Types()),\n",
    "    ('Remove_No_Correlation', Remove_No_Correlation(no_correlation)), #EDA Finding 2\n",
    "    ('Remove_Cat', Remove_Cat(remove_cat)), #EDA Finding 8\n",
    "    ('Convert_to_Cat', Convert_to_Cat(convert_to_cat)), #EDA Finding 3\n",
    "    ('Log_Feats', Log_Feats(log_feats)), #EDA Finding 5\n",
    "    ('OverallCond_to_Cat', OverallCond_to_Cat()), #EDA Finding 4\n",
    "    ('Convert_to_Binary', Convert_to_Binary(convert_to_bin_cat)), #EDA Finding 6\n",
    "    ('StandardScale_Df', StandardScale_Df()),\n",
    "    ('Convert_to_Ind', Convert_to_Ind(drop_list = remove_subcats)), #EDA Finding 9\n",
    "    ('Remove_Least_Important', Remove_Least_Important(threshold=10**-5, random_seed=seed)) #EDA Finding 10\n",
    "])"
   ]
  },
  {
   "cell_type": "markdown",
   "metadata": {},
   "source": [
    "### 1b. Preprocessing Refinement\n",
    "#### Check Performance of Each Step\n",
    "Each of the preprocessing steps are removed in turn and a basic Gradient Boosting and Random Forest models assessed using cross validation. This is to check if any of the preprocessing steps are having a detrimental impact on predictive performance. These two models are choosen as they are most likely be used for the final competition model.   \n",
    "Note, steps `Replace_NaNs` , `Convert_to_Ind` and `Match_Data_Types` are required for modelling and so are not removed."
   ]
  },
  {
   "cell_type": "code",
   "execution_count": 6,
   "metadata": {},
   "outputs": [],
   "source": [
    "def check_preprocessing(pipe, steps_to_remove=[]):\n",
    "    # Check each step in the preprocessing is improving the predicitve performance\n",
    "    # 30 folds used to minimise the effect of random noise on the results.\n",
    "    kfold = KFold(n_splits=30, random_state=seed, shuffle=True)\n",
    "    # Baseline Score\n",
    "    X_clean = pipe.fit_transform(X,y)\n",
    "    GBR = GradientBoostingRegressor(random_state=seed)\n",
    "    scores = np.sqrt((-1)*cross_val_score(GBR, X=X_clean, y=y, cv=kfold, scoring='neg_mean_squared_error'))\n",
    "    GBR_bl_score = np.mean(scores)\n",
    "    RFR = RandomForestRegressor(random_state=seed)\n",
    "    scores = np.sqrt((-1)*cross_val_score(RFR, X=X_clean, y=y, cv=kfold, scoring='neg_mean_squared_error'))\n",
    "    RFR_bl_score = np.mean(scores)    \n",
    "    print(\"Baseline score (all steps) : GBR %f    RFR %f\"%(GBR_bl_score, RFR_bl_score))\n",
    "    \n",
    "    # Check Scores with each step removed\n",
    "    if len(steps_to_remove)>0:\n",
    "        pipe_steps = pipe.steps\n",
    "        transformer_removed = []\n",
    "        GBR_delta_scores = []\n",
    "        RFR_delta_scores = []\n",
    "        for i in steps_to_remove:\n",
    "            temp_pipe = clone(pipe)\n",
    "            transformer_removed.append(temp_pipe.steps[i][0])\n",
    "            temp_pipe.steps.pop(i)\n",
    "            X_clean_temp = temp_pipe.fit_transform(X,y)\n",
    "            # GBR Test\n",
    "            GBR = GradientBoostingRegressor(random_state=seed)\n",
    "            GBR_scores = np.sqrt((-1)*cross_val_score(GBR, X=X_clean_temp, y=y, cv=kfold, scoring='neg_mean_squared_error'))\n",
    "            GBR_delta_scores.append(np.mean(GBR_scores) - GBR_bl_score)\n",
    "            # RFR Tests\n",
    "            RFR = RandomForestRegressor(random_state=seed)\n",
    "            RFR_scores = np.sqrt((-1)*cross_val_score(RFR, X=X_clean_temp, y=y, cv=kfold, scoring='neg_mean_squared_error'))\n",
    "            RFR_delta_scores.append(np.mean(RFR_scores) - RFR_bl_score)            \n",
    "\n",
    "        return pd.DataFrame({'transformer_removed' : transformer_removed,\n",
    "                             'GBR delta score' : GBR_delta_scores,\n",
    "                             'RFR delta score' : RFR_delta_scores})"
   ]
  },
  {
   "cell_type": "code",
   "execution_count": 7,
   "metadata": {},
   "outputs": [
    {
     "name": "stdout",
     "output_type": "stream",
     "text": [
      "Baseline score (all steps) : GBR 0.124788    RFR 0.146840\n",
      "   GBR delta score  RFR delta score     transformer_removed\n",
      "0        -0.000438        -0.001562   Remove_No_Correlation\n",
      "1         0.001078         0.000510              Remove_Cat\n",
      "2        -0.000545        -0.002256          Convert_to_Cat\n",
      "3         0.001510        -0.000900               Log_Feats\n",
      "4        -0.001063        -0.000326      OverallCond_to_Cat\n",
      "5         0.000778        -0.000319       Convert_to_Binary\n",
      "6         0.001512        -0.000614        StandardScale_Df\n",
      "7         0.000564        -0.001765  Remove_Least_Important\n"
     ]
    }
   ],
   "source": [
    "# Remove each step individually and check impact on performance\n",
    "check_pipe_0 = clone(preprocess_pipe)\n",
    "print(check_preprocessing(pipe=check_pipe_0, steps_to_remove = [2, 3, 4, 5, 6, 7, 8, 10]))\n",
    "# Observation \n",
    "#    Convert_to_Cat shows the largest improvement in performance when removed."
   ]
  },
  {
   "cell_type": "code",
   "execution_count": 8,
   "metadata": {},
   "outputs": [
    {
     "name": "stdout",
     "output_type": "stream",
     "text": [
      "Steps remaining :  ['Replace_NaNs', 'Match_Data_Types', 'Remove_No_Correlation', 'Remove_Cat', 'Log_Feats', 'OverallCond_to_Cat', 'Convert_to_Binary', 'StandardScale_Df', 'Convert_to_Ind', 'Remove_Least_Important']\n",
      "Baseline score (all steps) : GBR 0.124397    RFR 0.144855\n",
      "   GBR delta score  RFR delta score     transformer_removed\n",
      "0         0.000575         0.000533   Remove_No_Correlation\n",
      "1         0.001824        -0.000167              Remove_Cat\n",
      "2         0.001515         0.000737               Log_Feats\n",
      "3        -0.000440        -0.000633      OverallCond_to_Cat\n",
      "4         0.000087         0.000441       Convert_to_Binary\n",
      "5         0.001461         0.000783        StandardScale_Df\n",
      "6         0.000288        -0.000779  Remove_Least_Important\n"
     ]
    }
   ],
   "source": [
    "# Check with Convert_to_Cat removed\n",
    "check_pipe_1 = clone(preprocess_pipe)\n",
    "check_pipe_1.steps.pop(4)\n",
    "print('Steps remaining : ',[x[0] for x in check_pipe_1.steps])\n",
    "print(check_preprocessing(check_pipe_1, steps_to_remove=[2, 3, 4, 5, 6, 7, 9]))\n",
    "# Observation\n",
    "#   All other steps either improve or don't affect performance (changes at 4th decimal are taken as noise)\n",
    "#   None of the preprocessing steps provide a significant improvement to performance; possibly becase of the use of \n",
    "#   relatively robust decision tree based methods. Possibly should experiment with the less robust linear regression model."
   ]
  },
  {
   "cell_type": "code",
   "execution_count": 9,
   "metadata": {},
   "outputs": [
    {
     "name": "stdout",
     "output_type": "stream",
     "text": [
      "Converting all to Cat (Baseline)\n",
      "Baseline score (all steps) : GBR 0.124788    RFR 0.146840\n",
      "\n",
      "Removing  MSSubClass\n",
      "Baseline score (all steps) : GBR 0.127516    RFR 0.146081\n",
      "\n",
      "Removing  KitchenAbvGr\n",
      "Baseline score (all steps) : GBR 0.123612    RFR 0.147043\n",
      "\n",
      "Removing  Fireplaces\n",
      "Baseline score (all steps) : GBR 0.125859    RFR 0.146898\n",
      "\n",
      "Removing  GarageCars\n",
      "Baseline score (all steps) : GBR 0.125919    RFR 0.145704\n"
     ]
    }
   ],
   "source": [
    "# Check which features 'Convert_to_Cat' is detrimental to performance\n",
    "check_pipe_2 = clone(preprocess_pipe)\n",
    "print(\"Converting all to Cat (Baseline)\")\n",
    "check_preprocessing(check_pipe_2)\n",
    "\n",
    "for feat in convert_to_cat:\n",
    "    # Check Scores with each step removed\n",
    "    print(\"\\nRemoving \",feat)\n",
    "    temp_pipe = clone(check_pipe_2)\n",
    "    temp_pipe.steps[4][1].feature_list = [x for x in convert_to_cat if x!=feat]\n",
    "    check_preprocessing(temp_pipe)\n",
    "  \n",
    "# Observation\n",
    "#  Only converting KitchenAbvGr to categorical appears to be detrimental to performance.\n",
    "#  This is removed from the convert_to_cat list but the Convert_to_Cat preprocessing step retained.\n",
    "convert_to_cat =  ['MSSubClass', 'KitchenAbvGr', 'Fireplaces', 'GarageCars']"
   ]
  },
  {
   "cell_type": "code",
   "execution_count": 10,
   "metadata": {},
   "outputs": [],
   "source": [
    "convert_to_cat =  ['MSSubClass', 'KitchenAbvGr', 'Fireplaces', 'GarageCars']"
   ]
  },
  {
   "cell_type": "markdown",
   "metadata": {},
   "source": [
    "### Replace NaN Method\n",
    "Check the affect on performance between using mean or median as the numeric method\n",
    "for filling NaNs."
   ]
  },
  {
   "cell_type": "code",
   "execution_count": 11,
   "metadata": {},
   "outputs": [
    {
     "name": "stdout",
     "output_type": "stream",
     "text": [
      "Numeric method = median\n",
      "Baseline score (all steps) : GBR 0.124397    RFR 0.144855\n",
      "\n",
      "Numeric method = mean\n",
      "Baseline score (all steps) : GBR 0.124800    RFR 0.144288\n"
     ]
    }
   ],
   "source": [
    "# Clone original pipeline\n",
    "check_pipe_3 = clone(preprocess_pipe)\n",
    "check_pipe_3.steps.pop(4) #Remove the 'Convert_to_Cat' step.\n",
    "# Median\n",
    "print(\"Numeric method = median\")\n",
    "temp_pipe = clone(check_pipe_3)\n",
    "temp_pipe.steps[0][1].numeric_method = 'median'\n",
    "check_preprocessing(temp_pipe)\n",
    "# Mean\n",
    "print(\"\\nNumeric method = mean\")\n",
    "temp_pipe = clone(check_pipe_3)\n",
    "temp_pipe.steps[0][1].numeric_method = 'mean'\n",
    "check_preprocessing(temp_pipe)\n",
    "# Observation\n",
    "#    Marinal difference. The more robust and lower GBR scoring 'median' method will be used."
   ]
  },
  {
   "cell_type": "markdown",
   "metadata": {},
   "source": [
    "### Remove_Least_Important Threshold\n",
    "Vary the threshold value passed to the `Remove_Least_Important` step and observe impact on performance."
   ]
  },
  {
   "cell_type": "code",
   "execution_count": 12,
   "metadata": {},
   "outputs": [],
   "source": [
    "# Clone original pipeline\n",
    "check_pipe_4 = clone(preprocess_pipe)\n",
    "check_pipe_4.steps.pop(6) #Remove the 'Convert_to_Binary' step.\n",
    "kfold = KFold(n_splits=20, random_state=seed, shuffle=True)\n",
    "# Check performance for various thresholds\n",
    "threshold_list = [10**(-x) for x in [7, 6]+list(np.arange(4,5.9,0.1)[::-1])+[4, 3, 2, 1]] #Refined in region of minima\n",
    "GBR_scores, RFR_scores = [], []\n",
    "for thresh in threshold_list:\n",
    "    # Modify threshold value\n",
    "    temp_pipe = clone(check_pipe_4)\n",
    "    temp_pipe.steps[8][1].threshold = thresh \n",
    "    X_clean_temp = temp_pipe.fit_transform(X,y)\n",
    "    # Run Models\n",
    "    GBR = GradientBoostingRegressor(random_state=seed)\n",
    "    GBR_cv_scores = np.sqrt((-1)*cross_val_score(GBR, X=X_clean_temp, y=y, cv=kfold, scoring='neg_mean_squared_error'))\n",
    "    GBR_scores.append(np.mean(GBR_cv_scores))\n",
    "    RFR = RandomForestRegressor(random_state=seed)\n",
    "    RFR_cv_scores = np.sqrt((-1)*cross_val_score(RFR, X=X_clean_temp, y=y, cv=kfold, scoring='neg_mean_squared_error'))\n",
    "    RFR_scores.append(np.mean(RFR_cv_scores))    \n",
    "thresh_df = pd.DataFrame({'threshold' : np.log10(threshold_list),\n",
    "                          'GBR_score' : GBR_scores,\n",
    "                          'RFR_score' : RFR_scores})"
   ]
  },
  {
   "cell_type": "code",
   "execution_count": 13,
   "metadata": {},
   "outputs": [
    {
     "data": {
      "image/png": "[encoded data removed]",
      "text/plain": [
       "<matplotlib.figure.Figure at 0x22fbd82cac8>"
      ]
     },
     "metadata": {},
     "output_type": "display_data"
    }
   ],
   "source": [
    "#Plot results\n",
    "fig , ax = plt.subplots(1,1,figsize=(15,5))\n",
    "ax.plot(thresh_df.threshold, thresh_df.GBR_score, label='GBR')\n",
    "ax.plot(thresh_df.threshold, thresh_df.RFR_score, label='RFR')\n",
    "y_mins = [min(thresh_df.GBR_score), min(thresh_df.RFR_score)]\n",
    "x_mins = [thresh_df['threshold'].iloc[thresh_df.GBR_score.idxmin],\n",
    "         thresh_df['threshold'].iloc[thresh_df.RFR_score.idxmin]]\n",
    "ax.scatter(x_mins, y_mins)\n",
    "ax.set(ylim=(0.12, 0.18),\n",
    "       xlabel='Importance Threshold\\n(Log scale 10^x)',\n",
    "       ylabel='RMSLE\\n(Error Metric)',\n",
    "       title=\"Effect of 'threshold' parameter in 'Remove_Least_Important'\\n preprocessing step.\",\n",
    "      )\n",
    "ax.legend(loc='best')\n",
    "plt.show()\n",
    "#Observation\n",
    "#   Little variation in performance for thresholds < 10^-4. Most likely these are all essentially just removing\n",
    "#   features with zero importance. A threshold of 10^-5 will be used for the final preprossesing pipe."
   ]
  },
  {
   "cell_type": "markdown",
   "metadata": {},
   "source": [
    "### 1c. Final Preprocessing Pipe\n",
    "Following the preceeding refinements, the preprocessing pipeline is as follows;"
   ]
  },
  {
   "cell_type": "code",
   "execution_count": 14,
   "metadata": {},
   "outputs": [],
   "source": [
    "preprocess_pipe_final = Pipeline([\n",
    "    ('Replace_NaNs', Replace_NaNs()), \n",
    "    ('Match_Data_Types', Match_Data_Types()),\n",
    "    ('Remove_No_Correlation', Remove_No_Correlation(no_correlation)), #EDA Finding 2\n",
    "    ('Remove_Cat', Remove_Cat(remove_cat)), #EDA Finding 8\n",
    "    ('Convert_to_Cat', Convert_to_Cat(convert_to_cat)), #EDA Finding 3\n",
    "    ('Log_Feats', Log_Feats(log_feats)), #EDA Finding 5\n",
    "    ('OverallCond_to_Cat', OverallCond_to_Cat()), #EDA Finding 4\n",
    "    ('Convert_to_Binary', Convert_to_Binary(convert_to_bin_cat)), #EDA Finding 6\n",
    "    ('StandardScale_Df', StandardScale_Df()),\n",
    "    ('Convert_to_Ind', Convert_to_Ind(drop_list = remove_subcats)), #EDA Finding 9\n",
    "    ('Remove_Least_Important', Remove_Least_Important(threshold=10**-5, random_seed=seed)) #EDA Finding 10\n",
    "])\n",
    "X_clean = preprocess_pipe_final.fit_transform(X, y)"
   ]
  },
  {
   "cell_type": "markdown",
   "metadata": {},
   "source": [
    "## 2. Model Selection\n",
    "This section assessed the performance of various regression algorithms.   \n",
    "Each is tested across a range of hyperparameters. An iterative approach to the gridsearch method is used on each algorithm. While this iterative approach will not guarentee to find the globally optimum parameters, it is a reasonable approach. "
   ]
  },
  {
   "cell_type": "code",
   "execution_count": 15,
   "metadata": {},
   "outputs": [],
   "source": [
    "kfold = KFold(n_splits=10, random_state=seed, shuffle=True)"
   ]
  },
  {
   "cell_type": "markdown",
   "metadata": {},
   "source": [
    "### 2a. Algorithm Tests"
   ]
  },
  {
   "cell_type": "markdown",
   "metadata": {},
   "source": [
    "### Linear Regression"
   ]
  },
  {
   "cell_type": "code",
   "execution_count": 16,
   "metadata": {},
   "outputs": [
    {
     "name": "stdout",
     "output_type": "stream",
     "text": [
      "Fitting 10 folds for each of 150 candidates, totalling 1500 fits\n"
     ]
    },
    {
     "name": "stderr",
     "output_type": "stream",
     "text": [
      "[Parallel(n_jobs=4)]: Done  10 tasks      | elapsed:    6.1s\n",
      "[Parallel(n_jobs=4)]: Done  64 tasks      | elapsed:   17.0s\n",
      "[Parallel(n_jobs=4)]: Done 154 tasks      | elapsed:   32.7s\n",
      "[Parallel(n_jobs=4)]: Done 280 tasks      | elapsed:   43.1s\n",
      "[Parallel(n_jobs=4)]: Done 442 tasks      | elapsed:   52.4s\n",
      "[Parallel(n_jobs=4)]: Done 640 tasks      | elapsed:  1.0min\n",
      "[Parallel(n_jobs=4)]: Done 874 tasks      | elapsed:  1.2min\n",
      "[Parallel(n_jobs=4)]: Done 1144 tasks      | elapsed:  1.5min\n",
      "[Parallel(n_jobs=4)]: Done 1450 tasks      | elapsed:  1.7min\n",
      "[Parallel(n_jobs=4)]: Done 1500 out of 1500 | elapsed:  1.7min finished\n"
     ]
    },
    {
     "data": {
      "text/plain": [
       "{'alpha': 0.003, 'l1_ratio': 0.038}"
      ]
     },
     "execution_count": 16,
     "metadata": {},
     "output_type": "execute_result"
    }
   ],
   "source": [
    "#Linear Regression Model\n",
    "LR = ElasticNet(random_state=seed)\n",
    "    \n",
    "### Grid Search\n",
    "LR_tuning_params = [{'l1_ratio':np.arange(0.01, 0.04, 0.002),\n",
    "                     'alpha':np.arange(0.001, 0.011, 0.001)}]\n",
    "\n",
    "LR_Search = GridSearchCV(\n",
    "              LR, \n",
    "              LR_tuning_params,\n",
    "              cv=kfold, \n",
    "              scoring= 'neg_mean_squared_error',\n",
    "              verbose = 5,\n",
    "              n_jobs = 4)\n",
    "\n",
    "LR_Search.fit(X_clean, y)\n",
    "LR_Search.best_params_    "
   ]
  },
  {
   "cell_type": "markdown",
   "metadata": {},
   "source": [
    "#### Iteration 1\n",
    "LR_tuning_params: 'l1_ratio':np.arange(0.1, 1.1, 0.1), 'alpha':np.arange(0.1, 5, 0.1)\n",
    "\n",
    "Best Parameters : {'alpha': 0.1, 'l1_ratio': 0.1}\n",
    "\n",
    "#### Iteration 2\n",
    "LR_tuning_params: 'l1_ratio':np.arange(0.01, 0.11, 0.01), 'alpha':np.arange(0.01, 0.11, 0.01)\n",
    "\n",
    "Best Parameters : {'alpha': 0.01, 'l1_ratio': 0.02}\n",
    "\n",
    "#### Iteration 3\n",
    "LR_tuning_params: 'l1_ratio':np.arange(0.01, 0.04, 0.002), 'alpha':np.arange(0.001, 0.011, 0.001)\n",
    "\n",
    "Best & Final Parameters : **{'alpha': 0.003, 'l1_ratio': 0.038}**\n"
   ]
  },
  {
   "cell_type": "code",
   "execution_count": 17,
   "metadata": {},
   "outputs": [
    {
     "name": "stdout",
     "output_type": "stream",
     "text": [
      "Elastic Net :  0.1265760842083367\n",
      "Ridge :  0.12767330576635397\n"
     ]
    }
   ],
   "source": [
    "# Elastic vs Ridge\n",
    "# The very low parameters in the gridsearch suggest Ridge regression is dominant over Lasso.\n",
    "# Here it is checked if pure Ridge regression is a better performer.\n",
    "elastic = ElasticNet(random_state=seed, alpha=0.003, l1_ratio = 0.038)\n",
    "scores = np.sqrt((-1)*cross_val_score(elastic, X=X_clean, y=y, cv=kfold, scoring='neg_mean_squared_error'))\n",
    "print('Elastic Net : ', np.mean(scores))\n",
    "ridge = Ridge(random_state=seed, alpha=5)\n",
    "scores = np.sqrt((-1)*cross_val_score(ridge, X=X_clean, y=y, cv=kfold, scoring='neg_mean_squared_error'))\n",
    "print('Ridge : ', np.mean(scores))\n",
    "# Observation\n",
    "# Elastic Net with gridsearch parameters out performs Ridge regression."
   ]
  },
  {
   "cell_type": "code",
   "execution_count": 18,
   "metadata": {},
   "outputs": [
    {
     "name": "stdout",
     "output_type": "stream",
     "text": [
      "Elastic Net Linear Regression (RMSLE) :  0.1297587534585978\n"
     ]
    }
   ],
   "source": [
    "LR_error = np.sqrt((-1)*LR_Search.best_score_)\n",
    "print('Elastic Net Linear Regression (RMSLE) : ',LR_error)"
   ]
  },
  {
   "cell_type": "markdown",
   "metadata": {},
   "source": [
    "### Gradient Boosting Regression"
   ]
  },
  {
   "cell_type": "code",
   "execution_count": 19,
   "metadata": {
    "scrolled": true
   },
   "outputs": [
    {
     "name": "stdout",
     "output_type": "stream",
     "text": [
      "Fitting 10 folds for each of 4 candidates, totalling 40 fits\n"
     ]
    },
    {
     "name": "stderr",
     "output_type": "stream",
     "text": [
      "[Parallel(n_jobs=4)]: Done  10 tasks      | elapsed:   32.4s\n",
      "[Parallel(n_jobs=4)]: Done  40 out of  40 | elapsed:  2.5min finished\n"
     ]
    },
    {
     "name": "stdout",
     "output_type": "stream",
     "text": [
      "Best Parameters :  {'learning_rate': 0.01, 'max_depth': 4, 'max_features': 20, 'n_estimators': 4000}\n",
      "Best Score :  0.11639376160688393\n"
     ]
    }
   ],
   "source": [
    "#Gradient Boosting Model\n",
    "GBR = GradientBoostingRegressor(random_state=seed)\n",
    "     \n",
    "\n",
    "### Grid Search\n",
    "GBR_tuning_params = [{'n_estimators':[3000, 4000],\n",
    "                 'max_depth':[4, 5],\n",
    "                 'learning_rate':[0.01],\n",
    "                 'max_features' : [20]\n",
    "                 }]\n",
    "\n",
    "GBR_Search = GridSearchCV(\n",
    "              GBR, \n",
    "              GBR_tuning_params,\n",
    "              cv=kfold, \n",
    "              scoring= 'neg_mean_squared_error',\n",
    "              verbose = 5,\n",
    "              n_jobs = 4)\n",
    "\n",
    "GBR_Search.fit(X_clean, y)\n",
    "print(\"Best Parameters : \",GBR_Search.best_params_)\n",
    "print(\"Best Score : \",np.sqrt((-1)*GBR_Search.best_score_))"
   ]
  },
  {
   "cell_type": "markdown",
   "metadata": {},
   "source": [
    "#### Iteration 1\n",
    "GBR_tuning_params:\n",
    "'n_estimators':[10, 50, 100, 500, 1000, 2000],  'max_depth':[3, 6, 12],  'learning_rate':[0.01, 0.05, 0.1],   \n",
    "'max_features' : [20, 50, 70, 100]\n",
    "    \n",
    "Best Parameters : {'learning_rate': 0.01,  'max_depth': 3,  'max_features': 20,  'n_estimators': 2000}\n",
    "Best Score : 0.11940\n",
    "\n",
    "#### Iteration 2\n",
    "GBR_tuning_params:\n",
    "'n_estimators':[1500, 2000, 3000],  'max_depth':[2, 3, 4],  'learning_rate':[0.005, 0.01, 0.03],   \n",
    "'max_features' : [10, 20, 30]\n",
    "\n",
    "Best Parameters :  {'learning_rate': 0.01, 'max_depth': 4, 'max_features': 20, 'n_estimators': 3000}\n",
    "Best Score :  0.11655\n",
    "\n",
    "#### Iteration 3\n",
    "GBR_tuning_params:\n",
    "'n_estimators':[3000, 4000],  'max_depth':[4, 5],  'learning_rate':[0.01],   \n",
    "'max_features' : [20]\n",
    "\n",
    "Final Parameters :  **{'learning_rate': 0.01, 'max_depth': 4, 'max_features': 20, 'n_estimators': 4000}**\n",
    "Best Score :  0.11639"
   ]
  },
  {
   "cell_type": "code",
   "execution_count": 20,
   "metadata": {},
   "outputs": [
    {
     "name": "stdout",
     "output_type": "stream",
     "text": [
      "Gradient Boosting Regressor (RMSLE) :  0.11639376160688393\n"
     ]
    }
   ],
   "source": [
    "GBR_error = np.sqrt((-1)*GBR_Search.best_score_)\n",
    "print('Gradient Boosting Regressor (RMSLE) : ',GBR_error)"
   ]
  },
  {
   "cell_type": "markdown",
   "metadata": {},
   "source": [
    "### Random Forest Regression"
   ]
  },
  {
   "cell_type": "code",
   "execution_count": 21,
   "metadata": {},
   "outputs": [
    {
     "name": "stdout",
     "output_type": "stream",
     "text": [
      "Fitting 10 folds for each of 3 candidates, totalling 30 fits\n"
     ]
    },
    {
     "name": "stderr",
     "output_type": "stream",
     "text": [
      "[Parallel(n_jobs=4)]: Done  30 out of  30 | elapsed:  4.9min finished\n"
     ]
    },
    {
     "name": "stdout",
     "output_type": "stream",
     "text": [
      "Best Parameters :  {'max_depth': 20, 'max_features': 70, 'n_estimators': 1200}\n",
      "Best Score :  0.1358114447270893\n"
     ]
    }
   ],
   "source": [
    "RFR = RandomForestRegressor(random_state=seed)\n",
    "\n",
    "### Grid Search\n",
    "RFR_tuning_params = [{'n_estimators':[1200, 1500, 1800],\n",
    "                 'max_depth':[20],\n",
    "                 'max_features' : [70]\n",
    "                 }]\n",
    "\n",
    "RFR_Search = GridSearchCV(\n",
    "              RFR, \n",
    "              RFR_tuning_params,\n",
    "              cv=kfold, \n",
    "              scoring= 'neg_mean_squared_error',\n",
    "              verbose = 3,\n",
    "              n_jobs = 4)\n",
    "\n",
    "RFR_Search.fit(X_clean, y)\n",
    "print(\"Best Parameters : \",RFR_Search.best_params_)\n",
    "print(\"Best Score : \",np.sqrt((-1)*RFR_Search.best_score_))"
   ]
  },
  {
   "cell_type": "markdown",
   "metadata": {},
   "source": [
    "#### Iteration 1   \n",
    "RFR_tuning_params:   \n",
    "'n_estimators':[10, 50, 100, 500, 1000, 2000],  'max_depth':[3, 6, 12],  'max_features' : [20, 50, 70, 100, 200]   \n",
    "\n",
    "Best Parameters :  {'max_depth': 12, 'max_features': 70, 'n_estimators': 2000}\n",
    "Best Score :  0.13626\n",
    "\n",
    "#### Iteration 2\n",
    "RFR_tuning_params: \n",
    "'n_estimators':[1500, 2000, 2500],  'max_depth':[12, 20, 30],  'max_features' : [60, 70, 80]\n",
    "\n",
    "Best Parameters :  {'max_depth': 20, 'max_features': 70, 'n_estimators': 1500}\n",
    "Best Score :  0.13593\n",
    "\n",
    "#### Iteration 3\n",
    "RFR_tuning_params: \n",
    "'n_estimators':[1200, 1500, 1800],  'max_depth':[20],  'max_features' : [70]\n",
    "\n",
    "Final Parameters :  **{'max_depth': 20, 'max_features': 70, 'n_estimators': 1200}**\n",
    "Best Score :  0.13581 "
   ]
  },
  {
   "cell_type": "code",
   "execution_count": 22,
   "metadata": {},
   "outputs": [
    {
     "name": "stdout",
     "output_type": "stream",
     "text": [
      "Random Forest Regressor (RMSLE) :  0.1358114447270893\n"
     ]
    }
   ],
   "source": [
    "RFR_error = np.sqrt((-1)*RFR_Search.best_score_)\n",
    "print('Random Forest Regressor (RMSLE) : ',RFR_error)"
   ]
  },
  {
   "cell_type": "markdown",
   "metadata": {},
   "source": [
    "### AdaBoost Regression"
   ]
  },
  {
   "cell_type": "code",
   "execution_count": 23,
   "metadata": {},
   "outputs": [
    {
     "name": "stdout",
     "output_type": "stream",
     "text": [
      "Fitting 10 folds for each of 9 candidates, totalling 90 fits\n"
     ]
    },
    {
     "name": "stderr",
     "output_type": "stream",
     "text": [
      "[Parallel(n_jobs=4)]: Done  24 tasks      | elapsed:  1.4min\n",
      "[Parallel(n_jobs=4)]: Done  90 out of  90 | elapsed:  5.3min finished\n"
     ]
    },
    {
     "name": "stdout",
     "output_type": "stream",
     "text": [
      "Best Parameters :  {'learning_rate': 0.05, 'loss': 'linear', 'n_estimators': 500}\n",
      "Best Score :  0.17638377911688258\n"
     ]
    }
   ],
   "source": [
    "AD = AdaBoostRegressor(random_state=seed)\n",
    "\n",
    "### Grid Search\n",
    "AD_tuning_params = [{'n_estimators':[300, 500, 800],\n",
    "                     'learning_rate' : [0.03, 0.05, 0.08],\n",
    "                     'loss' : ['linear']\n",
    "                   }]\n",
    "\n",
    "AD_Search = GridSearchCV(\n",
    "              AD, \n",
    "              AD_tuning_params,\n",
    "              cv=kfold, \n",
    "              scoring= 'neg_mean_squared_error',\n",
    "              verbose = 3,\n",
    "              n_jobs = 4)\n",
    "\n",
    "AD_Search.fit(X_clean, y)\n",
    "print(\"Best Parameters : \",AD_Search.best_params_)\n",
    "print(\"Best Score : \",np.sqrt((-1)*AD_Search.best_score_))"
   ]
  },
  {
   "cell_type": "markdown",
   "metadata": {},
   "source": [
    "#### Iteration 1   \n",
    "AD_tuning_params:   \n",
    "'n_estimators':[100, 500, 1000, 1500, 2000],  'learning_rate' : [0.01, 0.05, 0.1],  'loss' : ['linear', 'square']\n",
    "\n",
    "Best Parameters :  {'learning_rate': 0.05, 'loss': 'linear', 'n_estimators': 500}\n",
    "Best Score :  0.17638 \n",
    "\n",
    "#### Iteration 2   \n",
    "AD_tuning_params:   \n",
    "'n_estimators':[300, 500, 800],  'learning_rate' : [0.03, 0.05, 0.08],  'loss' : ['linear']\n",
    "\n",
    "Final Parameters :  **{'learning_rate': 0.05, 'loss': 'linear', 'n_estimators': 500}**\n",
    "Best Score :  0.17638"
   ]
  },
  {
   "cell_type": "code",
   "execution_count": 24,
   "metadata": {},
   "outputs": [
    {
     "name": "stdout",
     "output_type": "stream",
     "text": [
      "AdaBoost Regressor with decision tree base (RMSLE) :  0.17638377911688258\n"
     ]
    }
   ],
   "source": [
    "AD_error = np.sqrt((-1)*AD_Search.best_score_)\n",
    "print('AdaBoost Regressor with decision tree base (RMSLE) : ', AD_error)"
   ]
  },
  {
   "cell_type": "markdown",
   "metadata": {},
   "source": [
    "### 2b. Ensemble Methods\n",
    "Gradient Boosting Regressor appears to be outperforming the other algorithms tested.\n",
    "Here every combination of these predictors is tested to see if an Ensemble can out performe the Gradient\n",
    "Boosting model."
   ]
  },
  {
   "cell_type": "code",
   "execution_count": 25,
   "metadata": {},
   "outputs": [],
   "source": [
    "kfold = KFold(n_splits=10, random_state=seed, shuffle=True)"
   ]
  },
  {
   "cell_type": "code",
   "execution_count": 26,
   "metadata": {},
   "outputs": [],
   "source": [
    "class Ensemble_Model(BaseEstimator):  \n",
    "    \"\"\"Ensemble of regression models\"\"\"\n",
    "\n",
    "    def __init__(self, models, weights = None, **Params):\n",
    "        self.models = models\n",
    "        self.weights = weights\n",
    "\n",
    "    def fit(self, X, y=None, **Params):\n",
    "        for m in self.models:\n",
    "            m.fit(X,y)\n",
    "        return self\n",
    "\n",
    "    def predict(self, X, **Params):\n",
    "        y_pred_ind = [np.expm1(np.array(m.predict(X))) for m in self.models]\n",
    "        if type(self.weights) == list:       \n",
    "            self.weights = np.array(self.weights) / sum(self.weights) # normalise weights\n",
    "            y_pred = [y_pred_ind[i] * self.weights[i] for i in np.arange(len(self.weights))]\n",
    "            y_pred = list(np.log1p(sum(y_pred)))\n",
    "        else:\n",
    "            y_pred = list(np.log1p(sum(y_pred_ind)/len(self.models)))\n",
    "            \n",
    "        return y_pred\n"
   ]
  },
  {
   "cell_type": "code",
   "execution_count": 27,
   "metadata": {},
   "outputs": [],
   "source": [
    "#Final model parameters\n",
    "LR = ElasticNet(random_state=seed, alpha=0.003, l1_ratio = 0.038)\n",
    "GBR = GradientBoostingRegressor(random_state=seed, learning_rate=0.01, max_depth=4, max_features=20, n_estimators=4000)\n",
    "RFR = RandomForestRegressor(random_state=seed, max_depth=20, max_features=70, n_estimators=1200)\n",
    "AD = AdaBoostRegressor(random_state=seed, n_estimators=500, learning_rate=0.05, loss='linear')"
   ]
  },
  {
   "cell_type": "code",
   "execution_count": 28,
   "metadata": {},
   "outputs": [],
   "source": [
    "# Errors\n",
    "LR_error = 0.1297587534585978\n",
    "GBR_error = 0.11639376160688393\n",
    "RFR_error = 0.1358114447270893\n",
    "AD_error = 0.17638377911688258"
   ]
  },
  {
   "cell_type": "markdown",
   "metadata": {},
   "source": [
    "#### Assess Ensemble Combinations\n",
    "Every combination of models is assessed for performance on the training set. The models are combined as both a straight forward average and a weighted average  based on their respective cross validation scores."
   ]
  },
  {
   "cell_type": "code",
   "execution_count": 29,
   "metadata": {},
   "outputs": [],
   "source": [
    "# Initial Lists\n",
    "weights = [1/LR_error, 1/GBR_error, 1/RFR_error, 1/AD_error]\n",
    "models = [LR, GBR, RFR, AD]\n",
    "en_models = []\n",
    "en_results = []\n",
    "en_weights = []"
   ]
  },
  {
   "cell_type": "code",
   "execution_count": 30,
   "metadata": {},
   "outputs": [
    {
     "name": "stdout",
     "output_type": "stream",
     "text": [
      "['LR']\n",
      "['GBR']\n",
      "['RFR']\n",
      "['AD']\n",
      "['LR', 'GBR']\n",
      "['LR', 'RFR']\n",
      "['LR', 'AD']\n",
      "['GBR', 'RFR']\n",
      "['GBR', 'AD']\n",
      "['RFR', 'AD']\n",
      "['LR', 'GBR', 'RFR']\n",
      "['LR', 'GBR', 'AD']\n",
      "['LR', 'RFR', 'AD']\n",
      "['GBR', 'RFR', 'AD']\n",
      "['LR', 'GBR', 'RFR', 'AD']\n",
      "['LR']\n",
      "['GBR']\n",
      "['RFR']\n",
      "['AD']\n",
      "['LR', 'GBR']\n",
      "['LR', 'RFR']\n",
      "['LR', 'AD']\n",
      "['GBR', 'RFR']\n",
      "['GBR', 'AD']\n",
      "['RFR', 'AD']\n",
      "['LR', 'GBR', 'RFR']\n",
      "['LR', 'GBR', 'AD']\n",
      "['LR', 'RFR', 'AD']\n",
      "['GBR', 'RFR', 'AD']\n",
      "['LR', 'GBR', 'RFR', 'AD']\n"
     ]
    }
   ],
   "source": [
    "# Combinations\n",
    "inds = list(np.arange(len(models)))\n",
    "combs =list(itertools.combinations(inds, 1)) +\\\n",
    "        list(itertools.combinations(inds, 2)) +\\\n",
    "        list(itertools.combinations(inds, 3)) +\\\n",
    "        list(itertools.combinations(inds, 4))\n",
    "# Loop over all combinations\n",
    "for inc_weight in [False, True]:\n",
    "    for comb in combs:\n",
    "        # Ensemble parameters\n",
    "        model_in = [models[i] for i in comb]\n",
    "        if inc_weight:\n",
    "            weight_in = [weights[i] for i in comb]\n",
    "        else:\n",
    "            weight_in = None\n",
    "        # Run CV on ensemble\n",
    "        print([['LR','GBR', 'RFR', 'AD'][i] for i in comb])\n",
    "        ensemble = Ensemble_Model(models=model_in, weights=weight_in)\n",
    "        en_cv_scores = np.sqrt((-1)*cross_val_score(ensemble, X=X_clean, y=y, cv=kfold, scoring='neg_mean_squared_error'))\n",
    "        en_models.append([['LR','GBR', 'RFR', 'AD'][i] for i in comb])\n",
    "        en_results.append(np.mean(en_cv_scores))\n",
    "        en_weights.append(inc_weight)\n",
    "        \n",
    "en_results_df = pd.DataFrame({'Model':en_models, 'Weighted':en_weights, 'RMSLE':en_results}).sort_values(by='RMSLE')"
   ]
  },
  {
   "cell_type": "code",
   "execution_count": 31,
   "metadata": {},
   "outputs": [
    {
     "data": {
      "text/html": [
       "<div>\n",
       "<style scoped>\n",
       "    .dataframe tbody tr th:only-of-type {\n",
       "        vertical-align: middle;\n",
       "    }\n",
       "\n",
       "    .dataframe tbody tr th {\n",
       "        vertical-align: top;\n",
       "    }\n",
       "\n",
       "    .dataframe thead th {\n",
       "        text-align: right;\n",
       "    }\n",
       "</style>\n",
       "<table border=\"1\" class=\"dataframe\">\n",
       "  <thead>\n",
       "    <tr style=\"text-align: right;\">\n",
       "      <th></th>\n",
       "      <th>Model</th>\n",
       "      <th>RMSLE</th>\n",
       "      <th>Weighted</th>\n",
       "    </tr>\n",
       "  </thead>\n",
       "  <tbody>\n",
       "    <tr>\n",
       "      <th>1</th>\n",
       "      <td>[GBR]</td>\n",
       "      <td>0.114704</td>\n",
       "      <td>False</td>\n",
       "    </tr>\n",
       "    <tr>\n",
       "      <th>16</th>\n",
       "      <td>[GBR]</td>\n",
       "      <td>0.114704</td>\n",
       "      <td>True</td>\n",
       "    </tr>\n",
       "    <tr>\n",
       "      <th>19</th>\n",
       "      <td>[LR, GBR]</td>\n",
       "      <td>0.117480</td>\n",
       "      <td>True</td>\n",
       "    </tr>\n",
       "    <tr>\n",
       "      <th>4</th>\n",
       "      <td>[LR, GBR]</td>\n",
       "      <td>0.117795</td>\n",
       "      <td>False</td>\n",
       "    </tr>\n",
       "    <tr>\n",
       "      <th>25</th>\n",
       "      <td>[LR, GBR, RFR]</td>\n",
       "      <td>0.118600</td>\n",
       "      <td>True</td>\n",
       "    </tr>\n",
       "    <tr>\n",
       "      <th>10</th>\n",
       "      <td>[LR, GBR, RFR]</td>\n",
       "      <td>0.118963</td>\n",
       "      <td>False</td>\n",
       "    </tr>\n",
       "    <tr>\n",
       "      <th>22</th>\n",
       "      <td>[GBR, RFR]</td>\n",
       "      <td>0.120065</td>\n",
       "      <td>True</td>\n",
       "    </tr>\n",
       "    <tr>\n",
       "      <th>7</th>\n",
       "      <td>[GBR, RFR]</td>\n",
       "      <td>0.120823</td>\n",
       "      <td>False</td>\n",
       "    </tr>\n",
       "    <tr>\n",
       "      <th>26</th>\n",
       "      <td>[LR, GBR, AD]</td>\n",
       "      <td>0.122783</td>\n",
       "      <td>True</td>\n",
       "    </tr>\n",
       "    <tr>\n",
       "      <th>20</th>\n",
       "      <td>[LR, RFR]</td>\n",
       "      <td>0.123067</td>\n",
       "      <td>True</td>\n",
       "    </tr>\n",
       "    <tr>\n",
       "      <th>5</th>\n",
       "      <td>[LR, RFR]</td>\n",
       "      <td>0.123164</td>\n",
       "      <td>False</td>\n",
       "    </tr>\n",
       "    <tr>\n",
       "      <th>29</th>\n",
       "      <td>[LR, GBR, RFR, AD]</td>\n",
       "      <td>0.123559</td>\n",
       "      <td>True</td>\n",
       "    </tr>\n",
       "    <tr>\n",
       "      <th>11</th>\n",
       "      <td>[LR, GBR, AD]</td>\n",
       "      <td>0.126033</td>\n",
       "      <td>False</td>\n",
       "    </tr>\n",
       "    <tr>\n",
       "      <th>14</th>\n",
       "      <td>[LR, GBR, RFR, AD]</td>\n",
       "      <td>0.126060</td>\n",
       "      <td>False</td>\n",
       "    </tr>\n",
       "    <tr>\n",
       "      <th>15</th>\n",
       "      <td>[LR]</td>\n",
       "      <td>0.126576</td>\n",
       "      <td>True</td>\n",
       "    </tr>\n",
       "    <tr>\n",
       "      <th>0</th>\n",
       "      <td>[LR]</td>\n",
       "      <td>0.126576</td>\n",
       "      <td>False</td>\n",
       "    </tr>\n",
       "    <tr>\n",
       "      <th>28</th>\n",
       "      <td>[GBR, RFR, AD]</td>\n",
       "      <td>0.128215</td>\n",
       "      <td>True</td>\n",
       "    </tr>\n",
       "    <tr>\n",
       "      <th>23</th>\n",
       "      <td>[GBR, AD]</td>\n",
       "      <td>0.128299</td>\n",
       "      <td>True</td>\n",
       "    </tr>\n",
       "    <tr>\n",
       "      <th>27</th>\n",
       "      <td>[LR, RFR, AD]</td>\n",
       "      <td>0.130343</td>\n",
       "      <td>True</td>\n",
       "    </tr>\n",
       "    <tr>\n",
       "      <th>13</th>\n",
       "      <td>[GBR, RFR, AD]</td>\n",
       "      <td>0.132013</td>\n",
       "      <td>False</td>\n",
       "    </tr>\n",
       "    <tr>\n",
       "      <th>12</th>\n",
       "      <td>[LR, RFR, AD]</td>\n",
       "      <td>0.132913</td>\n",
       "      <td>False</td>\n",
       "    </tr>\n",
       "    <tr>\n",
       "      <th>21</th>\n",
       "      <td>[LR, AD]</td>\n",
       "      <td>0.133198</td>\n",
       "      <td>True</td>\n",
       "    </tr>\n",
       "    <tr>\n",
       "      <th>17</th>\n",
       "      <td>[RFR]</td>\n",
       "      <td>0.134149</td>\n",
       "      <td>True</td>\n",
       "    </tr>\n",
       "    <tr>\n",
       "      <th>2</th>\n",
       "      <td>[RFR]</td>\n",
       "      <td>0.134149</td>\n",
       "      <td>False</td>\n",
       "    </tr>\n",
       "    <tr>\n",
       "      <th>8</th>\n",
       "      <td>[GBR, AD]</td>\n",
       "      <td>0.134495</td>\n",
       "      <td>False</td>\n",
       "    </tr>\n",
       "    <tr>\n",
       "      <th>6</th>\n",
       "      <td>[LR, AD]</td>\n",
       "      <td>0.136939</td>\n",
       "      <td>False</td>\n",
       "    </tr>\n",
       "    <tr>\n",
       "      <th>24</th>\n",
       "      <td>[RFR, AD]</td>\n",
       "      <td>0.145490</td>\n",
       "      <td>True</td>\n",
       "    </tr>\n",
       "    <tr>\n",
       "      <th>9</th>\n",
       "      <td>[RFR, AD]</td>\n",
       "      <td>0.148142</td>\n",
       "      <td>False</td>\n",
       "    </tr>\n",
       "    <tr>\n",
       "      <th>18</th>\n",
       "      <td>[AD]</td>\n",
       "      <td>0.175509</td>\n",
       "      <td>True</td>\n",
       "    </tr>\n",
       "    <tr>\n",
       "      <th>3</th>\n",
       "      <td>[AD]</td>\n",
       "      <td>0.175509</td>\n",
       "      <td>False</td>\n",
       "    </tr>\n",
       "  </tbody>\n",
       "</table>\n",
       "</div>"
      ],
      "text/plain": [
       "                 Model     RMSLE  Weighted\n",
       "1                [GBR]  0.114704     False\n",
       "16               [GBR]  0.114704      True\n",
       "19           [LR, GBR]  0.117480      True\n",
       "4            [LR, GBR]  0.117795     False\n",
       "25      [LR, GBR, RFR]  0.118600      True\n",
       "10      [LR, GBR, RFR]  0.118963     False\n",
       "22          [GBR, RFR]  0.120065      True\n",
       "7           [GBR, RFR]  0.120823     False\n",
       "26       [LR, GBR, AD]  0.122783      True\n",
       "20           [LR, RFR]  0.123067      True\n",
       "5            [LR, RFR]  0.123164     False\n",
       "29  [LR, GBR, RFR, AD]  0.123559      True\n",
       "11       [LR, GBR, AD]  0.126033     False\n",
       "14  [LR, GBR, RFR, AD]  0.126060     False\n",
       "15                [LR]  0.126576      True\n",
       "0                 [LR]  0.126576     False\n",
       "28      [GBR, RFR, AD]  0.128215      True\n",
       "23           [GBR, AD]  0.128299      True\n",
       "27       [LR, RFR, AD]  0.130343      True\n",
       "13      [GBR, RFR, AD]  0.132013     False\n",
       "12       [LR, RFR, AD]  0.132913     False\n",
       "21            [LR, AD]  0.133198      True\n",
       "17               [RFR]  0.134149      True\n",
       "2                [RFR]  0.134149     False\n",
       "8            [GBR, AD]  0.134495     False\n",
       "6             [LR, AD]  0.136939     False\n",
       "24           [RFR, AD]  0.145490      True\n",
       "9            [RFR, AD]  0.148142     False\n",
       "18                [AD]  0.175509      True\n",
       "3                 [AD]  0.175509     False"
      ]
     },
     "execution_count": 31,
     "metadata": {},
     "output_type": "execute_result"
    }
   ],
   "source": [
    "# Results\n",
    "en_results_df\n",
    "# Observations\n",
    "#    Gradient Boosting Model out performs any ensemble.\n",
    "#    In all cases the weighted ensemble out performs the unweighted version.\n",
    "#    Worth investigating other wighting strategies."
   ]
  },
  {
   "cell_type": "markdown",
   "metadata": {},
   "source": [
    "#### Weighting strategies\n",
    "The best performing ensembles are used to assess different weighting strategies."
   ]
  },
  {
   "cell_type": "code",
   "execution_count": 32,
   "metadata": {},
   "outputs": [],
   "source": [
    "# Initial Lists\n",
    "weight_power = []\n",
    "weight_results = []\n",
    "model_comb = []"
   ]
  },
  {
   "cell_type": "code",
   "execution_count": 33,
   "metadata": {},
   "outputs": [
    {
     "name": "stdout",
     "output_type": "stream",
     "text": [
      "[LR, GBR]   0.5\n",
      "[LR, GBR]   1\n",
      "[LR, GBR]   2\n",
      "[LR, GBR]   3\n",
      "[LR, GBR]   4\n",
      "[LR, GBR]   5\n",
      "[LR, GBR, RFR]   0.5\n",
      "[LR, GBR, RFR]   1\n",
      "[LR, GBR, RFR]   2\n",
      "[LR, GBR, RFR]   3\n",
      "[LR, GBR, RFR]   4\n",
      "[LR, GBR, RFR]   5\n",
      "[GBR, RFR]   0.5\n",
      "[GBR, RFR]   1\n",
      "[GBR, RFR]   2\n",
      "[GBR, RFR]   3\n",
      "[GBR, RFR]   4\n",
      "[GBR, RFR]   5\n",
      "[LR, GBR, AD]   0.5\n",
      "[LR, GBR, AD]   1\n",
      "[LR, GBR, AD]   2\n",
      "[LR, GBR, AD]   3\n",
      "[LR, GBR, AD]   4\n",
      "[LR, GBR, AD]   5\n",
      "[LR, GBR, RFR, AD]   0.5\n",
      "[LR, GBR, RFR, AD]   1\n",
      "[LR, GBR, RFR, AD]   2\n",
      "[LR, GBR, RFR, AD]   3\n",
      "[LR, GBR, RFR, AD]   4\n",
      "[LR, GBR, RFR, AD]   5\n"
     ]
    }
   ],
   "source": [
    "# Assess the best performing ensembles with different weighting strategies.\n",
    "for j, model_list in enumerate([[LR, GBR], [LR, GBR, RFR], [GBR, RFR], [LR, GBR, AD], [LR, GBR, RFR, AD]]):\n",
    "    models_used = ['[LR, GBR]', '[LR, GBR, RFR]', '[GBR, RFR]', '[LR, GBR, AD]', '[LR, GBR, RFR, AD]'][j]\n",
    "    for i in [0.5, 1, 2, 3, 4, 5]:\n",
    "        print(models_used, \" \",i)\n",
    "        weight_temp = list(np.power(weights, i))[0:len(model_list)]\n",
    "        ensemble = Ensemble_Model(models=model_list, weights=weight_temp)\n",
    "        en_cv_scores = np.sqrt((-1)*cross_val_score(ensemble, X=X_clean, y=y, cv=kfold, scoring='neg_mean_squared_error'))\n",
    "        weight_power.append(i)\n",
    "        weight_results.append(np.mean(en_cv_scores))\n",
    "        model_comb.append(models_used)\n",
    "weight_results_df = pd.DataFrame({'Models  Used': model_comb, 'Weighting Power': weight_power, 'RMSLE': weight_results}).sort_values(by='RMSLE')"
   ]
  },
  {
   "cell_type": "code",
   "execution_count": 34,
   "metadata": {},
   "outputs": [
    {
     "data": {
      "text/html": [
       "<div>\n",
       "<style scoped>\n",
       "    .dataframe tbody tr th:only-of-type {\n",
       "        vertical-align: middle;\n",
       "    }\n",
       "\n",
       "    .dataframe tbody tr th {\n",
       "        vertical-align: top;\n",
       "    }\n",
       "\n",
       "    .dataframe thead th {\n",
       "        text-align: right;\n",
       "    }\n",
       "</style>\n",
       "<table border=\"1\" class=\"dataframe\">\n",
       "  <thead>\n",
       "    <tr style=\"text-align: right;\">\n",
       "      <th></th>\n",
       "      <th>Models  Used</th>\n",
       "      <th>RMSLE</th>\n",
       "      <th>Weighting Power</th>\n",
       "    </tr>\n",
       "  </thead>\n",
       "  <tbody>\n",
       "    <tr>\n",
       "      <th>5</th>\n",
       "      <td>[LR, GBR]</td>\n",
       "      <td>0.116410</td>\n",
       "      <td>5.0</td>\n",
       "    </tr>\n",
       "    <tr>\n",
       "      <th>4</th>\n",
       "      <td>[LR, GBR]</td>\n",
       "      <td>0.116647</td>\n",
       "      <td>4.0</td>\n",
       "    </tr>\n",
       "    <tr>\n",
       "      <th>3</th>\n",
       "      <td>[LR, GBR]</td>\n",
       "      <td>0.116905</td>\n",
       "      <td>3.0</td>\n",
       "    </tr>\n",
       "    <tr>\n",
       "      <th>2</th>\n",
       "      <td>[LR, GBR]</td>\n",
       "      <td>0.117183</td>\n",
       "      <td>2.0</td>\n",
       "    </tr>\n",
       "    <tr>\n",
       "      <th>11</th>\n",
       "      <td>[LR, GBR, RFR]</td>\n",
       "      <td>0.117281</td>\n",
       "      <td>5.0</td>\n",
       "    </tr>\n",
       "    <tr>\n",
       "      <th>1</th>\n",
       "      <td>[LR, GBR]</td>\n",
       "      <td>0.117480</td>\n",
       "      <td>1.0</td>\n",
       "    </tr>\n",
       "    <tr>\n",
       "      <th>10</th>\n",
       "      <td>[LR, GBR, RFR]</td>\n",
       "      <td>0.117587</td>\n",
       "      <td>4.0</td>\n",
       "    </tr>\n",
       "    <tr>\n",
       "      <th>0</th>\n",
       "      <td>[LR, GBR]</td>\n",
       "      <td>0.117636</td>\n",
       "      <td>0.5</td>\n",
       "    </tr>\n",
       "    <tr>\n",
       "      <th>9</th>\n",
       "      <td>[LR, GBR, RFR]</td>\n",
       "      <td>0.117910</td>\n",
       "      <td>3.0</td>\n",
       "    </tr>\n",
       "    <tr>\n",
       "      <th>8</th>\n",
       "      <td>[LR, GBR, RFR]</td>\n",
       "      <td>0.118248</td>\n",
       "      <td>2.0</td>\n",
       "    </tr>\n",
       "    <tr>\n",
       "      <th>29</th>\n",
       "      <td>[LR, GBR, RFR, AD]</td>\n",
       "      <td>0.118316</td>\n",
       "      <td>5.0</td>\n",
       "    </tr>\n",
       "    <tr>\n",
       "      <th>7</th>\n",
       "      <td>[LR, GBR, RFR]</td>\n",
       "      <td>0.118600</td>\n",
       "      <td>1.0</td>\n",
       "    </tr>\n",
       "    <tr>\n",
       "      <th>6</th>\n",
       "      <td>[LR, GBR, RFR]</td>\n",
       "      <td>0.118780</td>\n",
       "      <td>0.5</td>\n",
       "    </tr>\n",
       "    <tr>\n",
       "      <th>28</th>\n",
       "      <td>[LR, GBR, RFR, AD]</td>\n",
       "      <td>0.119133</td>\n",
       "      <td>4.0</td>\n",
       "    </tr>\n",
       "    <tr>\n",
       "      <th>27</th>\n",
       "      <td>[LR, GBR, RFR, AD]</td>\n",
       "      <td>0.120211</td>\n",
       "      <td>3.0</td>\n",
       "    </tr>\n",
       "    <tr>\n",
       "      <th>23</th>\n",
       "      <td>[LR, GBR, AD]</td>\n",
       "      <td>0.121058</td>\n",
       "      <td>5.0</td>\n",
       "    </tr>\n",
       "    <tr>\n",
       "      <th>12</th>\n",
       "      <td>[GBR, RFR]</td>\n",
       "      <td>0.121101</td>\n",
       "      <td>0.5</td>\n",
       "    </tr>\n",
       "    <tr>\n",
       "      <th>13</th>\n",
       "      <td>[GBR, RFR]</td>\n",
       "      <td>0.121383</td>\n",
       "      <td>1.0</td>\n",
       "    </tr>\n",
       "    <tr>\n",
       "      <th>26</th>\n",
       "      <td>[LR, GBR, RFR, AD]</td>\n",
       "      <td>0.121648</td>\n",
       "      <td>2.0</td>\n",
       "    </tr>\n",
       "    <tr>\n",
       "      <th>22</th>\n",
       "      <td>[LR, GBR, AD]</td>\n",
       "      <td>0.121924</td>\n",
       "      <td>4.0</td>\n",
       "    </tr>\n",
       "    <tr>\n",
       "      <th>14</th>\n",
       "      <td>[GBR, RFR]</td>\n",
       "      <td>0.121961</td>\n",
       "      <td>2.0</td>\n",
       "    </tr>\n",
       "    <tr>\n",
       "      <th>15</th>\n",
       "      <td>[GBR, RFR]</td>\n",
       "      <td>0.122551</td>\n",
       "      <td>3.0</td>\n",
       "    </tr>\n",
       "    <tr>\n",
       "      <th>21</th>\n",
       "      <td>[LR, GBR, AD]</td>\n",
       "      <td>0.122859</td>\n",
       "      <td>3.0</td>\n",
       "    </tr>\n",
       "    <tr>\n",
       "      <th>16</th>\n",
       "      <td>[GBR, RFR]</td>\n",
       "      <td>0.123151</td>\n",
       "      <td>4.0</td>\n",
       "    </tr>\n",
       "    <tr>\n",
       "      <th>25</th>\n",
       "      <td>[LR, GBR, RFR, AD]</td>\n",
       "      <td>0.123559</td>\n",
       "      <td>1.0</td>\n",
       "    </tr>\n",
       "    <tr>\n",
       "      <th>17</th>\n",
       "      <td>[GBR, RFR]</td>\n",
       "      <td>0.123754</td>\n",
       "      <td>5.0</td>\n",
       "    </tr>\n",
       "    <tr>\n",
       "      <th>20</th>\n",
       "      <td>[LR, GBR, AD]</td>\n",
       "      <td>0.123859</td>\n",
       "      <td>2.0</td>\n",
       "    </tr>\n",
       "    <tr>\n",
       "      <th>24</th>\n",
       "      <td>[LR, GBR, RFR, AD]</td>\n",
       "      <td>0.124729</td>\n",
       "      <td>0.5</td>\n",
       "    </tr>\n",
       "    <tr>\n",
       "      <th>19</th>\n",
       "      <td>[LR, GBR, AD]</td>\n",
       "      <td>0.124920</td>\n",
       "      <td>1.0</td>\n",
       "    </tr>\n",
       "    <tr>\n",
       "      <th>18</th>\n",
       "      <td>[LR, GBR, AD]</td>\n",
       "      <td>0.125470</td>\n",
       "      <td>0.5</td>\n",
       "    </tr>\n",
       "  </tbody>\n",
       "</table>\n",
       "</div>"
      ],
      "text/plain": [
       "          Models  Used     RMSLE  Weighting Power\n",
       "5            [LR, GBR]  0.116410              5.0\n",
       "4            [LR, GBR]  0.116647              4.0\n",
       "3            [LR, GBR]  0.116905              3.0\n",
       "2            [LR, GBR]  0.117183              2.0\n",
       "11      [LR, GBR, RFR]  0.117281              5.0\n",
       "1            [LR, GBR]  0.117480              1.0\n",
       "10      [LR, GBR, RFR]  0.117587              4.0\n",
       "0            [LR, GBR]  0.117636              0.5\n",
       "9       [LR, GBR, RFR]  0.117910              3.0\n",
       "8       [LR, GBR, RFR]  0.118248              2.0\n",
       "29  [LR, GBR, RFR, AD]  0.118316              5.0\n",
       "7       [LR, GBR, RFR]  0.118600              1.0\n",
       "6       [LR, GBR, RFR]  0.118780              0.5\n",
       "28  [LR, GBR, RFR, AD]  0.119133              4.0\n",
       "27  [LR, GBR, RFR, AD]  0.120211              3.0\n",
       "23       [LR, GBR, AD]  0.121058              5.0\n",
       "12          [GBR, RFR]  0.121101              0.5\n",
       "13          [GBR, RFR]  0.121383              1.0\n",
       "26  [LR, GBR, RFR, AD]  0.121648              2.0\n",
       "22       [LR, GBR, AD]  0.121924              4.0\n",
       "14          [GBR, RFR]  0.121961              2.0\n",
       "15          [GBR, RFR]  0.122551              3.0\n",
       "21       [LR, GBR, AD]  0.122859              3.0\n",
       "16          [GBR, RFR]  0.123151              4.0\n",
       "25  [LR, GBR, RFR, AD]  0.123559              1.0\n",
       "17          [GBR, RFR]  0.123754              5.0\n",
       "20       [LR, GBR, AD]  0.123859              2.0\n",
       "24  [LR, GBR, RFR, AD]  0.124729              0.5\n",
       "19       [LR, GBR, AD]  0.124920              1.0\n",
       "18       [LR, GBR, AD]  0.125470              0.5"
      ]
     },
     "execution_count": 34,
     "metadata": {},
     "output_type": "execute_result"
    }
   ],
   "source": [
    "# Results\n",
    "weight_results_df\n",
    "# Observation\n",
    "#    No ensemble weightings out perform the basic Gradient Boosting Regressor.\n",
    "#    As the power index of the weightings increases the RMSLE tends towards the GBR score.\n",
    "#    Gradient Boosting Regression is the best performing model, however, only by a small amount.   \n",
    "#    It could be that the ensmeble methods generalise better to new data therefore both will be carried forward."
   ]
  },
  {
   "cell_type": "markdown",
   "metadata": {},
   "source": [
    "### Effect  of Randomness within Models\n",
    "Random Forest and Gradient Boosting regressors are based on an element of randomness.\n",
    "Here it is checked whether the model performance is improved by combining multiple models with different random seeds."
   ]
  },
  {
   "cell_type": "code",
   "execution_count": 35,
   "metadata": {},
   "outputs": [],
   "source": [
    "kfold = KFold(n_splits=10, random_state=seed, shuffle=True)"
   ]
  },
  {
   "cell_type": "code",
   "execution_count": 36,
   "metadata": {},
   "outputs": [
    {
     "name": "stderr",
     "output_type": "stream",
     "text": [
      "100%|███████████████████████████████████████████████████████████████████████████| 1000/1000 [10:59:53<00:00, 39.59s/it]\n"
     ]
    }
   ],
   "source": [
    "#Weights\n",
    "LR_error = 0.1297587534585978\n",
    "GBR_error = 0.11639376160688393\n",
    "RFR_error = 0.1358114447270893\n",
    "AD_error = 0.17638377911688258\n",
    "# Predictions\n",
    "en_rand_predictions = []\n",
    "lr_rand_predictions = []\n",
    "gbr_rand_predictions = []\n",
    "rfr_rand_predictions = []\n",
    "X_1, X_2, y_1, y_2 = train_test_split(X_clean, y, test_size=0.20)\n",
    "for i in tqdm(np.arange(1, 1001)):\n",
    "    #Models\n",
    "    LR = ElasticNet(random_state=seed+i, alpha=0.003, l1_ratio = 0.038)\n",
    "    LR.fit(X_1,y_1)\n",
    "    lr_rand_predictions.append(np.array(LR.predict(X_2)))\n",
    "    GBR = GradientBoostingRegressor(random_state=seed+i, learning_rate=0.01, max_depth=4, max_features=20, n_estimators=4000)\n",
    "    GBR.fit(X_1,y_1)\n",
    "    gbr_rand_predictions.append(np.array(GBR.predict(X_2)))\n",
    "    RFR = RandomForestRegressor(random_state=seed+i, max_depth=20, max_features=70, n_estimators=1200)\n",
    "    RFR.fit(X_1,y_1)\n",
    "    rfr_rand_predictions.append(np.array(RFR.predict(X_2)))\n",
    "    #Ensemble\n",
    "    ensemble = Ensemble_Model(models=[LR, GBR, RFR], weights=[1/LR_error, 1/GBR_error, 1/RFR_error])\n",
    "    ensemble.fit(X_1, y_1)\n",
    "    en_rand_predictions.append(np.array(ensemble.predict(X_2)))"
   ]
  },
  {
   "cell_type": "code",
   "execution_count": 47,
   "metadata": {},
   "outputs": [
    {
     "data": {
      "text/plain": [
       "<matplotlib.legend.Legend at 0x22fdba14b38>"
      ]
     },
     "execution_count": 47,
     "metadata": {},
     "output_type": "execute_result"
    },
    {
     "data": {
      "image/png": "[encoded data removed]",
      "text/plain": [
       "<matplotlib.figure.Figure at 0x22fd107d2b0>"
      ]
     },
     "metadata": {},
     "output_type": "display_data"
    }
   ],
   "source": [
    "# Lists\n",
    "lr_rand_RMSLE = []\n",
    "gbr_rand_RMSLE = []\n",
    "rfr_rand_RMSLE = []\n",
    "en_rand_RMSLE = []\n",
    "# Baseline Errors\n",
    "lr_error = np.sqrt(mean_squared_error(y_2, lr_rand_predictions[0]))\n",
    "gbr_error = np.sqrt(mean_squared_error(y_2, gbr_rand_predictions[0]))\n",
    "rfr_error = np.sqrt(mean_squared_error(y_2, rfr_rand_predictions[0]))\n",
    "en_error = np.sqrt(mean_squared_error(y_2, en_rand_predictions[0]))\n",
    "# \n",
    "for i in np.arange(1,len(en_rand_predictions)):\n",
    "    lr_preds = sum(lr_rand_predictions[:i])/i\n",
    "    lr_rand_RMSLE.append(np.sqrt(mean_squared_error(y_2, lr_preds))-lr_error)\n",
    "    gbr_preds = sum(gbr_rand_predictions[:i])/i\n",
    "    gbr_rand_RMSLE.append(np.sqrt(mean_squared_error(y_2, gbr_preds))-gbr_error)\n",
    "    rfr_preds = sum(rfr_rand_predictions[:i])/i\n",
    "    rfr_rand_RMSLE.append(np.sqrt(mean_squared_error(y_2, rfr_preds))-rfr_error)\n",
    "    combined_preds = sum(en_rand_predictions[:i])/i\n",
    "    en_rand_RMSLE.append(np.sqrt(mean_squared_error(y_2, combined_preds))-en_error)\n",
    "#Plots\n",
    "# Score improvement with \n",
    "fig, ax = plt.subplots(1, 1, figsize=(15,5))\n",
    "ax.plot(np.arange(1,len(lr_rand_RMSLE)+1), lr_rand_RMSLE, label='LR');\n",
    "ax.plot(np.arange(1,len(gbr_rand_RMSLE)+1), gbr_rand_RMSLE, label='GBR', color='g');\n",
    "ax.plot(np.arange(1,len(rfr_rand_RMSLE)+1), rfr_rand_RMSLE, label='RFR');\n",
    "ax.plot(np.arange(1,len(en_rand_RMSLE)+1), en_rand_RMSLE, label='Ensemble');\n",
    "ax.set(title='Performance of Combined Models', xlabel='Number of Combined Models', ylabel='Delta RMSLE');\n",
    "ax.legend(loc='best')"
   ]
  },
  {
   "cell_type": "code",
   "execution_count": 38,
   "metadata": {},
   "outputs": [],
   "source": [
    "# Observation\n",
    "#    The final sumbmission will use 50 different random seeds to remove the effect of randomness"
   ]
  },
  {
   "cell_type": "markdown",
   "metadata": {},
   "source": [
    "## 3. Competition Submission\n",
    "### 3a. Gradient Boosting Regression Submission"
   ]
  },
  {
   "cell_type": "code",
   "execution_count": 39,
   "metadata": {},
   "outputs": [],
   "source": [
    "# Import Data\n",
    "comp = pd.read_csv('datasets/test.csv')\n",
    "X_comp = comp.drop(['Id'], axis=1)\n",
    "ID_comp = comp['Id']"
   ]
  },
  {
   "cell_type": "code",
   "execution_count": 40,
   "metadata": {},
   "outputs": [],
   "source": [
    "# Preprocess Competition Data\n",
    "#X_clean = preprocess_pipe_final.fit_transform(X, y)\n",
    "X_comp_clean = preprocess_pipe_final.transform(X_comp)"
   ]
  },
  {
   "cell_type": "code",
   "execution_count": 41,
   "metadata": {},
   "outputs": [],
   "source": [
    "# GBR Model\n",
    "GBR_model_list = [GradientBoostingRegressor(random_state=seed+i, learning_rate=0.03, max_depth=4, max_features=25, n_estimators=1700)\n",
    "                   for i in np.arange(50)]\n",
    "ensemble_comp = Ensemble_Model(GBR_model_list)\n",
    "ensemble_comp.fit(X_clean, y)\n",
    "y_comp = np.expm1(ensemble_comp.predict(X_comp_clean))"
   ]
  },
  {
   "cell_type": "code",
   "execution_count": 42,
   "metadata": {},
   "outputs": [],
   "source": [
    "# Required Submission Format\n",
    "comp_sumbmission = pd.DataFrame({'ID' : ID_comp,\n",
    "                                'SalePrice' : y_comp})\n",
    "comp_sumbmission.to_csv('Submission_001.csv', index = False)"
   ]
  },
  {
   "cell_type": "markdown",
   "metadata": {},
   "source": [
    "#### Competition Score - 0.12689\n",
    "   \n",
    "      \n",
    "      \n",
    "\n"
   ]
  },
  {
   "cell_type": "markdown",
   "metadata": {},
   "source": [
    "### 3b. Ensemble Submission (GBR, RFR, LR)"
   ]
  },
  {
   "cell_type": "code",
   "execution_count": 43,
   "metadata": {},
   "outputs": [],
   "source": [
    "# Ensemble Model\n",
    "LR = ElasticNet(alpha=0.003, l1_ratio = 0.038)\n",
    "GBR = GradientBoostingRegressor(learning_rate=0.01, max_depth=4, max_features=20, n_estimators=4000)\n",
    "RFR = RandomForestRegressor(max_depth=20, max_features=70, n_estimators=1200)\n",
    "\n",
    "weights = [1/LR_error]*50 + [1/GBR_error]*50 + [1/RFR_error]*50\n",
    "models = [LR]*50 + [GBR]*50 + [RFR]*50\n",
    "\n",
    "ensemble = Ensemble_Model(models, weights)\n",
    "\n",
    "ensemble.fit(X_clean, y)\n",
    "y_comp = np.expm1(ensemble.predict(X_comp_clean))"
   ]
  },
  {
   "cell_type": "code",
   "execution_count": 44,
   "metadata": {},
   "outputs": [],
   "source": [
    "# Required Submission Format\n",
    "comp_sumbmission = pd.DataFrame({'ID' : ID_comp,\n",
    "                                'SalePrice' : y_comp})\n",
    "comp_sumbmission.to_csv('Submission_002.csv', index = False)"
   ]
  },
  {
   "cell_type": "markdown",
   "metadata": {},
   "source": [
    "#### Competition Score - 0.12412"
   ]
  },
  {
   "cell_type": "code",
   "execution_count": 45,
   "metadata": {},
   "outputs": [],
   "source": [
    "# Rounded to nearest $500\n",
    "y_comp_round = (np.array(y_comp)//500)*500\n",
    "comp_sumbmission = pd.DataFrame({'ID' : ID_comp,\n",
    "                                'SalePrice' : y_comp_round})\n",
    "comp_sumbmission.to_csv('Submission_003.csv', index = False)"
   ]
  },
  {
   "cell_type": "markdown",
   "metadata": {},
   "source": [
    "#### Competition Score - 0.12422"
   ]
  },
  {
   "cell_type": "markdown",
   "metadata": {},
   "source": [
    "   \n",
    "#### Export Data for Experiments"
   ]
  },
  {
   "cell_type": "code",
   "execution_count": 46,
   "metadata": {},
   "outputs": [],
   "source": [
    "X_clean.to_csv('datasets/X_clean.csv', index=False)\n",
    "X_comp_clean.to_csv('datasets/X_comp_clean.csv', index=False)"
   ]
  }
 ],
 "metadata": {
  "kernelspec": {
   "display_name": "Python 3",
   "language": "python",
   "name": "python3"
  },
  "language_info": {
   "codemirror_mode": {
    "name": "ipython",
    "version": 3
   },
   "file_extension": ".py",
   "mimetype": "text/x-python",
   "name": "python",
   "nbconvert_exporter": "python",
   "pygments_lexer": "ipython3",
   "version": "3.6.4"
  }
 },
 "nbformat": 4,
 "nbformat_minor": 2
}
